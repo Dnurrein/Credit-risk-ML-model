{
 "cells": [
  {
   "cell_type": "markdown",
   "id": "3c0e2949",
   "metadata": {},
   "source": [
    "## Data preprocessing"
   ]
  },
  {
   "cell_type": "code",
   "execution_count": null,
   "id": "6d31f671",
   "metadata": {},
   "outputs": [],
   "source": [
    "from sklearn.impute import SimpleImputer\n",
    "from sklearn.preprocessing import StandardScaler, MinMaxScaler\n",
    "from sklearn.ensemble import IsolationForest\n",
    "\n",
    "# Handling missing values by replacing them with the mean value\n",
    "imputer = SimpleImputer(strategy='mean')\n",
    "X_imputed = imputer.fit_transform(X)\n",
    "\n",
    "# Detecting outliers using IsolationForest\n",
    "iso_forest = IsolationForest(contamination=0.1)\n",
    "outliers = iso_forest.fit_predict(X_imputed)\n",
    "\n",
    "# Scaling features to have zero mean and unit variance\n",
    "scaler = StandardScaler()\n",
    "X_scaled = scaler.fit_transform(X_imputed)\n"
   ]
  },
  {
   "cell_type": "markdown",
   "id": "7894fa11",
   "metadata": {},
   "source": [
    "## Feature engineering"
   ]
  },
  {
   "cell_type": "code",
   "execution_count": null,
   "id": "2f082657",
   "metadata": {},
   "outputs": [],
   "source": [
    "from sklearn.preprocessing import PolynomialFeatures\n",
    "\n",
    "# Generating interaction terms to capture non-linear relationships\n",
    "poly = PolynomialFeatures(degree=2, interaction_only=True)\n",
    "X_poly = poly.fit_transform(X_scaled)"
   ]
  },
  {
   "cell_type": "markdown",
   "id": "99797e41",
   "metadata": {},
   "source": [
    "## Model development and optimization"
   ]
  },
  {
   "cell_type": "code",
   "execution_count": null,
   "id": "ea7b4f48",
   "metadata": {},
   "outputs": [],
   "source": [
    "from sklearn.linear_model import LogisticRegression\n",
    "from sklearn.tree import DecisionTreeClassifier\n",
    "from sklearn.ensemble import RandomForestClassifier, GradientBoostingClassifier\n",
    "from sklearn.svm import SVC\n",
    "from sklearn.neural_network import MLPClassifier\n",
    "from sklearn.model_selection import GridSearchCV, RandomizedSearchCV, StratifiedKFold\n",
    "from sklearn.metrics import accuracy_score, precision_score, recall_score, f1_score, roc_auc_score\n",
    "\n",
    "# Baseline logistic regression model\n",
    "log_reg = LogisticRegression()\n",
    "log_reg.fit(X_train, y_train)\n",
    "\n",
    "# Advanced models for improved performance\n",
    "dt_clf = DecisionTreeClassifier()            # Decision Tree\n",
    "rf_clf = RandomForestClassifier()            # Random Forest\n",
    "gb_clf = GradientBoostingClassifier()        # Gradient Boosting\n",
    "svm_clf = SVC()                              # Support Vector Machine\n",
    "mlp_clf = MLPClassifier()                    # Neural Network\n",
    "\n",
    "# Hyperparameter tuning for Random Forest using GridSearchCV\n",
    "param_grid = {'n_estimators': [50, 100, 200], 'max_depth': [None, 10, 20, 30]}\n",
    "grid_search = GridSearchCV(rf_clf, param_grid, cv=5)\n",
    "grid_search.fit(X_train, y_train)\n",
    "\n",
    "# Ensuring robust model evaluation using StratifiedKFold cross-validation\n",
    "skf = StratifiedKFold(n_splits=10)\n",
    "\n",
    "\n",
    "# Optimization of model\n",
    "# Making predictions and evaluating the model\n",
    "y_pred = grid_search.predict(X_test)\n",
    "accuracy = accuracy_score(y_test, y_pred)\n",
    "precision = precision_score(y_test, y_pred)\n",
    "recall = recall_score(y_test, y_pred)\n",
    "f1 = f1_score(y_test, y_pred)\n",
    "auc = roc_auc_score(y_test, y_pred)"
   ]
  },
  {
   "cell_type": "markdown",
   "id": "71a9b742",
   "metadata": {},
   "source": [
    "## Implementation and deployment"
   ]
  },
  {
   "cell_type": "code",
   "execution_count": null,
   "id": "01caaac5",
   "metadata": {},
   "outputs": [],
   "source": [
    "from azureml.core import Workspace, Model\n",
    "from azureml.core.webservice import AciWebservice\n",
    "from azureml.core.model import InferenceConfig\n",
    "\n",
    "# Connect to Duke ADF_ML workspace\n",
    "ws = Workspace.from_config()\n",
    "\n",
    "# Register the model\n",
    "model = Model.register(workspace=ws,\n",
    "                       model_path='credit_risk_pipeline.pkl',  # Path to the file\n",
    "                       model_name='credit_risk_pipeline')     # Name of the model\n",
    "\n",
    "# Define the inference configuration\n",
    "inference_config = InferenceConfig(entry_script='score.py',  # Script that contains scoring logic\n",
    "                                   environment=myenv)          # Environment containing dependencies\n",
    "\n",
    "# Define the deployment configuration\n",
    "aci_config = AciWebservice.deploy_configuration(cpu_cores=1, memory_gb=1)\n",
    "\n",
    "# Deploy the model\n",
    "service = Model.deploy(workspace=ws,\n",
    "                       name='credit-risk-service',\n",
    "                       models=[model],\n",
    "                       inference_config=inference_config,\n",
    "                       deployment_config=aci_config)\n",
    "\n",
    "service.wait_for_deployment(show_output=True)"
   ]
  },
  {
   "cell_type": "code",
   "execution_count": null,
   "id": "8a4d0802",
   "metadata": {},
   "outputs": [],
   "source": []
  }
 ],
 "metadata": {
  "kernelspec": {
   "display_name": "Python 3 (ipykernel)",
   "language": "python",
   "name": "python3"
  },
  "language_info": {
   "codemirror_mode": {
    "name": "ipython",
    "version": 3
   },
   "file_extension": ".py",
   "mimetype": "text/x-python",
   "name": "python",
   "nbconvert_exporter": "python",
   "pygments_lexer": "ipython3",
   "version": "3.11.5"
  }
 },
 "nbformat": 4,
 "nbformat_minor": 5
}
